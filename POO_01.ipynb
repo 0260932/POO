{
  "nbformat": 4,
  "nbformat_minor": 0,
  "metadata": {
    "colab": {
      "provenance": []
    },
    "kernelspec": {
      "name": "python3",
      "display_name": "Python 3"
    },
    "language_info": {
      "name": "python"
    }
  },
  "cells": [
    {
      "cell_type": "markdown",
      "source": [
        "# Python\n",
        "En Python se pueden realizar operaciones sobre objetos. Además, es útil para resolver soluciones a ecuaciones.\n",
        "$$\n",
        "f(x,y)\\begin{cases}\n",
        "x + 2y &= 3\\\\\n",
        "2x + 4y &= 6\n",
        "\\end{cases}\n",
        "$$\n",
        "\n",
        "## Python\n",
        "### Python\n",
        "\n",
        "1.   Objetos\n",
        "2.   Listas\n",
        "3.   Conjuntos\n",
        "\n"
      ],
      "metadata": {
        "id": "s3sySU1CheBx"
      }
    },
    {
      "cell_type": "code",
      "source": [
        "print(\"Hola Mundo!\")"
      ],
      "metadata": {
        "colab": {
          "base_uri": "https://localhost:8080/"
        },
        "id": "DHr4lTH2qwu_",
        "outputId": "ee4026e8-1640-4cf9-f612-f707cc2f7caa"
      },
      "execution_count": 2,
      "outputs": [
        {
          "output_type": "stream",
          "name": "stdout",
          "text": [
            "Hola Mundo!\n"
          ]
        }
      ]
    },
    {
      "cell_type": "code",
      "source": [
        "# Crear variables\n",
        "x = 3\n",
        "y = 5"
      ],
      "metadata": {
        "id": "2RYTseuasyAQ"
      },
      "execution_count": 4,
      "outputs": []
    },
    {
      "cell_type": "code",
      "source": [
        "print(x+y)\n",
        "print(x-y)\n",
        "print(x*y)\n",
        "print(x**y)\n",
        "print(x/y)\n",
        "print(x//y)\n",
        "print(x%y)"
      ],
      "metadata": {
        "colab": {
          "base_uri": "https://localhost:8080/"
        },
        "id": "6xsuPx2Vs_JM",
        "outputId": "4aeddaa5-551a-4c34-b8ba-c30b8b8b2ec5"
      },
      "execution_count": 5,
      "outputs": [
        {
          "output_type": "stream",
          "name": "stdout",
          "text": [
            "8\n",
            "-2\n",
            "15\n",
            "243\n",
            "0.6\n",
            "0\n",
            "3\n"
          ]
        }
      ]
    },
    {
      "cell_type": "code",
      "source": [
        "type(x+y)"
      ],
      "metadata": {
        "colab": {
          "base_uri": "https://localhost:8080/"
        },
        "id": "GCIi-zSKwfmN",
        "outputId": "77600308-a642-4ac1-f8a6-50cc1ea2bf31"
      },
      "execution_count": 6,
      "outputs": [
        {
          "output_type": "execute_result",
          "data": {
            "text/plain": [
              "int"
            ]
          },
          "metadata": {},
          "execution_count": 6
        }
      ]
    },
    {
      "cell_type": "code",
      "source": [
        "type(x/y)"
      ],
      "metadata": {
        "colab": {
          "base_uri": "https://localhost:8080/"
        },
        "id": "cQgX_5PPxm2Z",
        "outputId": "7c6bdd5b-176e-4e1f-cd92-97cf3838f2e1"
      },
      "execution_count": 7,
      "outputs": [
        {
          "output_type": "execute_result",
          "data": {
            "text/plain": [
              "float"
            ]
          },
          "metadata": {},
          "execution_count": 7
        }
      ]
    }
  ]
}