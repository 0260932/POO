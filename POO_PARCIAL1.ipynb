{
  "nbformat": 4,
  "nbformat_minor": 0,
  "metadata": {
    "colab": {
      "provenance": []
    },
    "kernelspec": {
      "name": "python3",
      "display_name": "Python 3"
    },
    "language_info": {
      "name": "python"
    }
  },
  "cells": [
    {
      "cell_type": "code",
      "source": [
        "import numpy as np\n",
        "\n",
        "class Examen():\n",
        "    def __init__(self):\n",
        "      print(\"PARCIAL 1\")"
      ],
      "metadata": {
        "id": "AWYCnPZvvBOl"
      },
      "execution_count": 136,
      "outputs": []
    },
    {
      "cell_type": "code",
      "source": [
        "examen = Examen()"
      ],
      "metadata": {
        "colab": {
          "base_uri": "https://localhost:8080/"
        },
        "id": "1K0xKgwV4PyN",
        "outputId": "fc7e188b-f908-4be4-97bf-6a67417c82f1"
      },
      "execution_count": 137,
      "outputs": [
        {
          "output_type": "stream",
          "name": "stdout",
          "text": [
            "PARCIAL 1\n"
          ]
        }
      ]
    },
    {
      "cell_type": "code",
      "source": [
        "class Triangulo(Examen):\n",
        "\n",
        "      def __init__(self):\n",
        "        Examen.__init__(self)\n",
        "        print(\"Clase heredada: Triangulo\")\n",
        "\n",
        "      def area_equilatero(self):\n",
        "          l = int(input(\"Ingrese el largo de un lado de un triángulo equilatero: \"))\n",
        "          h = ((l*np.sqrt(3))/2)\n",
        "          a = ((l*2*np.sqrt(3))/4)\n",
        "          print(\"El área del triángulo es: \", a)\n",
        "\n",
        "      def perimetro_equilatero(self):\n",
        "          l = int(input(\"Ingrese el largo de un lado de un triángulo equilatero: \"))\n",
        "          p = l*3\n",
        "          print(\"El perímetro del triángulo es: \", p)"
      ],
      "metadata": {
        "id": "Zg9NQjo53ifk"
      },
      "execution_count": 138,
      "outputs": []
    },
    {
      "cell_type": "code",
      "source": [
        "triangulo = Triangulo()"
      ],
      "metadata": {
        "colab": {
          "base_uri": "https://localhost:8080/"
        },
        "id": "wDa4_ko12p8R",
        "outputId": "e30aeac6-05b2-41d3-c0bf-fd79bf9bb78a"
      },
      "execution_count": 139,
      "outputs": [
        {
          "output_type": "stream",
          "name": "stdout",
          "text": [
            "PARCIAL 1\n",
            "Clase heredada: Triangulo\n"
          ]
        }
      ]
    },
    {
      "cell_type": "code",
      "source": [
        "triangulo.area_equilatero()"
      ],
      "metadata": {
        "colab": {
          "base_uri": "https://localhost:8080/"
        },
        "id": "a4XT9mAUwFXw",
        "outputId": "1ed29ab2-0592-4ec6-c348-4ec91e008d8c"
      },
      "execution_count": 140,
      "outputs": [
        {
          "output_type": "stream",
          "name": "stdout",
          "text": [
            "Ingrese el largo de un lado de un triángulo equilatero: 3\n",
            "El área del triángulo es:  2.598076211353316\n"
          ]
        }
      ]
    },
    {
      "cell_type": "code",
      "source": [
        "triangulo.perimetro_equilatero()"
      ],
      "metadata": {
        "colab": {
          "base_uri": "https://localhost:8080/"
        },
        "id": "Ln4lYIRUysGo",
        "outputId": "062cc541-98a0-4f59-ce15-2d88cd707522"
      },
      "execution_count": 141,
      "outputs": [
        {
          "output_type": "stream",
          "name": "stdout",
          "text": [
            "Ingrese el largo de un lado de un triángulo equilatero: 3\n",
            "El perímetro del triángulo es:  9\n"
          ]
        }
      ]
    },
    {
      "cell_type": "code",
      "source": [
        "class Matriz(Examen):\n",
        "\n",
        "    def __init__(self):\n",
        "        Examen.__init__(self)\n",
        "        print(\"Clase heredada: Matriz\")\n",
        "\n",
        "    def matriz(self, lista):\n",
        "        print(np.array(lista).reshape(4, 4))\n",
        "\n",
        "    def determinante(self, A):\n",
        "        print(np.linalg.det(A))\n",
        "\n",
        "class TransformarMatriz:\n",
        "    def __init__(self, lista):\n",
        "        self.lista = lista\n",
        "\n",
        "    def transformar(self):\n",
        "        return np.array(self.lista).reshape(4, 4)\n",
        "\n",
        "class CalcularDeterminante:\n",
        "    def __init__(self, matriz):\n",
        "      Examen.__init__(self)\n",
        "      self.matriz = matriz\n",
        "\n",
        "    def determinante(self):\n",
        "      print(np.linalg.det(matriz))"
      ],
      "metadata": {
        "id": "GQupcNMP2kXy"
      },
      "execution_count": 142,
      "outputs": []
    },
    {
      "cell_type": "code",
      "source": [
        "matriz = Matriz()"
      ],
      "metadata": {
        "colab": {
          "base_uri": "https://localhost:8080/"
        },
        "id": "CJIR7sAD7EHZ",
        "outputId": "80fe4c57-b218-4ef0-d4d1-ddd615cf9243"
      },
      "execution_count": 143,
      "outputs": [
        {
          "output_type": "stream",
          "name": "stdout",
          "text": [
            "PARCIAL 1\n",
            "Clase heredada: Matriz\n"
          ]
        }
      ]
    },
    {
      "cell_type": "code",
      "source": [
        "lista = [i for i in range(1, 17)]\n",
        "transformador = TransformarMatriz(lista)\n",
        "matriz = transformador.transformar()\n",
        "print(\"Matriz 4x4: \")\n",
        "print(matriz)"
      ],
      "metadata": {
        "colab": {
          "base_uri": "https://localhost:8080/"
        },
        "id": "-AGVCCr685nK",
        "outputId": "3fb9e4cf-c3cc-40da-ed9f-7dc3aae1dabd"
      },
      "execution_count": 144,
      "outputs": [
        {
          "output_type": "stream",
          "name": "stdout",
          "text": [
            "Matriz 4x4: \n",
            "[[ 1  2  3  4]\n",
            " [ 5  6  7  8]\n",
            " [ 9 10 11 12]\n",
            " [13 14 15 16]]\n"
          ]
        }
      ]
    },
    {
      "cell_type": "code",
      "source": [
        "calculador = CalcularDeterminante(matriz)\n",
        "determinante = calculador.determinante()\n",
        "print(\"Determinante: \", determinante)"
      ],
      "metadata": {
        "colab": {
          "base_uri": "https://localhost:8080/"
        },
        "id": "yQlSUYeX7GYN",
        "outputId": "282ef550-d38e-4e27-c4b7-854061cbbf14"
      },
      "execution_count": 145,
      "outputs": [
        {
          "output_type": "stream",
          "name": "stdout",
          "text": [
            "PARCIAL 1\n",
            "0.0\n",
            "Determinante:  None\n"
          ]
        }
      ]
    }
  ]
}