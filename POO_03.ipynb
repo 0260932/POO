{
  "nbformat": 4,
  "nbformat_minor": 0,
  "metadata": {
    "colab": {
      "provenance": []
    },
    "kernelspec": {
      "name": "python3",
      "display_name": "Python 3"
    },
    "language_info": {
      "name": "python"
    }
  },
  "cells": [
    {
      "cell_type": "code",
      "execution_count": null,
      "metadata": {
        "id": "5rMoEQUFxbNL"
      },
      "outputs": [],
      "source": [
        "def Area(a,b):\n",
        "  x = (a*b)/2\n",
        "  return x"
      ]
    },
    {
      "cell_type": "code",
      "source": [
        "Area(1,1)"
      ],
      "metadata": {
        "colab": {
          "base_uri": "https://localhost:8080/"
        },
        "id": "eTMN1eoQyTYj",
        "outputId": "cfc42841-5e63-45f6-ea9a-ddd2283f3abc"
      },
      "execution_count": null,
      "outputs": [
        {
          "output_type": "execute_result",
          "data": {
            "text/plain": [
              "0.5"
            ]
          },
          "metadata": {},
          "execution_count": 4
        }
      ]
    },
    {
      "cell_type": "code",
      "source": [
        "import sympy\n",
        "\n",
        "from sympy import symbols, integrate\n",
        "\n",
        "x = symbols(\"x\")\n",
        "\n",
        "f = (x**2)\n",
        "f"
      ],
      "metadata": {
        "colab": {
          "base_uri": "https://localhost:8080/",
          "height": 39
        },
        "id": "9QpTjzNDyeq8",
        "outputId": "2533501a-52f5-45f9-b1a3-11aafec2a346"
      },
      "execution_count": null,
      "outputs": [
        {
          "output_type": "execute_result",
          "data": {
            "text/plain": [
              "x**2"
            ],
            "text/latex": "$\\displaystyle x^{2}$"
          },
          "metadata": {},
          "execution_count": 12
        }
      ]
    },
    {
      "cell_type": "code",
      "source": [
        "integral = integrate(f, (x,0,1))\n",
        "integral"
      ],
      "metadata": {
        "colab": {
          "base_uri": "https://localhost:8080/",
          "height": 51
        },
        "id": "hY7yKs1z3Mp_",
        "outputId": "18875191-fb2d-4067-bf1c-c106995d4aaa"
      },
      "execution_count": null,
      "outputs": [
        {
          "output_type": "execute_result",
          "data": {
            "text/plain": [
              "1/3"
            ],
            "text/latex": "$\\displaystyle \\frac{1}{3}$"
          },
          "metadata": {},
          "execution_count": 13
        }
      ]
    }
  ]
}