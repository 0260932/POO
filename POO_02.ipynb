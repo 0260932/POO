{
  "nbformat": 4,
  "nbformat_minor": 0,
  "metadata": {
    "colab": {
      "provenance": []
    },
    "kernelspec": {
      "name": "python3",
      "display_name": "Python 3"
    },
    "language_info": {
      "name": "python"
    }
  },
  "cells": [
    {
      "cell_type": "markdown",
      "source": [
        "# Lista"
      ],
      "metadata": {
        "id": "X425RuYaUKIy"
      }
    },
    {
      "cell_type": "code",
      "source": [
        "# Vamos a generar una lista vacía\n",
        "\n",
        "L = []\n",
        "\n",
        "range(10)"
      ],
      "metadata": {
        "id": "CyJ7ZJCRUQwx"
      },
      "execution_count": null,
      "outputs": []
    },
    {
      "cell_type": "code",
      "source": [
        "L = [1, 2, 3, 4]"
      ],
      "metadata": {
        "id": "T3_t8dw9WX98"
      },
      "execution_count": 8,
      "outputs": []
    },
    {
      "cell_type": "code",
      "source": [
        "L.append(5)"
      ],
      "metadata": {
        "id": "xfBllt1hWpTX"
      },
      "execution_count": 10,
      "outputs": []
    },
    {
      "cell_type": "code",
      "source": [
        "for i in range(10): print(i)"
      ],
      "metadata": {
        "colab": {
          "base_uri": "https://localhost:8080/"
        },
        "id": "lJ8DxNzTVFd7",
        "outputId": "8a5a4f40-1b6d-46a0-c191-6c8f7f461d07"
      },
      "execution_count": 3,
      "outputs": [
        {
          "output_type": "stream",
          "name": "stdout",
          "text": [
            "0\n",
            "1\n",
            "2\n",
            "3\n",
            "4\n",
            "5\n",
            "6\n",
            "7\n",
            "8\n",
            "9\n"
          ]
        }
      ]
    },
    {
      "cell_type": "markdown",
      "source": [
        "# Lista por comprensión"
      ],
      "metadata": {
        "id": "vSMbzWKicXBH"
      }
    },
    {
      "cell_type": "code",
      "source": [
        "len([2, 4, 6, 8])"
      ],
      "metadata": {
        "colab": {
          "base_uri": "https://localhost:8080/"
        },
        "id": "JZHlu2fVbNmb",
        "outputId": "4ef27fa2-7cdc-45c0-aa13-ba725dca7af8"
      },
      "execution_count": 11,
      "outputs": [
        {
          "output_type": "execute_result",
          "data": {
            "text/plain": [
              "4"
            ]
          },
          "metadata": {},
          "execution_count": 11
        }
      ]
    },
    {
      "cell_type": "code",
      "source": [
        "Pares = [i for i in range(1,101) if i%2==0 ]\n",
        "Pares"
      ],
      "metadata": {
        "colab": {
          "base_uri": "https://localhost:8080/"
        },
        "id": "5FX0wW8MbUrF",
        "outputId": "4ea94afe-0f2c-4146-b14a-9e8eecf8ddb9"
      },
      "execution_count": 13,
      "outputs": [
        {
          "output_type": "execute_result",
          "data": {
            "text/plain": [
              "[2,\n",
              " 4,\n",
              " 6,\n",
              " 8,\n",
              " 10,\n",
              " 12,\n",
              " 14,\n",
              " 16,\n",
              " 18,\n",
              " 20,\n",
              " 22,\n",
              " 24,\n",
              " 26,\n",
              " 28,\n",
              " 30,\n",
              " 32,\n",
              " 34,\n",
              " 36,\n",
              " 38,\n",
              " 40,\n",
              " 42,\n",
              " 44,\n",
              " 46,\n",
              " 48,\n",
              " 50,\n",
              " 52,\n",
              " 54,\n",
              " 56,\n",
              " 58,\n",
              " 60,\n",
              " 62,\n",
              " 64,\n",
              " 66,\n",
              " 68,\n",
              " 70,\n",
              " 72,\n",
              " 74,\n",
              " 76,\n",
              " 78,\n",
              " 80,\n",
              " 82,\n",
              " 84,\n",
              " 86,\n",
              " 88,\n",
              " 90,\n",
              " 92,\n",
              " 94,\n",
              " 96,\n",
              " 98,\n",
              " 100]"
            ]
          },
          "metadata": {},
          "execution_count": 13
        }
      ]
    },
    {
      "cell_type": "markdown",
      "source": [
        "## MÓdulo NumPy"
      ],
      "metadata": {
        "id": "IXZOjclQfpBq"
      }
    },
    {
      "cell_type": "code",
      "source": [
        "import numpy as np\n"
      ],
      "metadata": {
        "id": "DSgnKRbrfsAd"
      },
      "execution_count": 14,
      "outputs": []
    },
    {
      "cell_type": "code",
      "source": [
        "np.random.randint(1,10, 100)"
      ],
      "metadata": {
        "colab": {
          "base_uri": "https://localhost:8080/"
        },
        "id": "uI6Xcg8lgNSK",
        "outputId": "859ff5af-55da-4180-ce2c-f3aa3cce210c"
      },
      "execution_count": 17,
      "outputs": [
        {
          "output_type": "execute_result",
          "data": {
            "text/plain": [
              "array([1, 3, 7, 5, 9, 7, 3, 1, 1, 7, 9, 5, 9, 3, 5, 8, 4, 2, 6, 6, 2, 8,\n",
              "       1, 5, 9, 8, 8, 7, 1, 6, 7, 3, 7, 2, 7, 5, 7, 8, 3, 9, 9, 8, 5, 8,\n",
              "       6, 6, 4, 1, 6, 8, 8, 5, 3, 8, 9, 2, 4, 9, 7, 8, 1, 7, 8, 7, 9, 3,\n",
              "       2, 3, 3, 4, 3, 7, 1, 8, 2, 2, 5, 5, 6, 4, 6, 6, 6, 6, 5, 6, 2, 3,\n",
              "       1, 7, 7, 7, 8, 2, 3, 9, 5, 8, 4, 9])"
            ]
          },
          "metadata": {},
          "execution_count": 17
        }
      ]
    },
    {
      "cell_type": "code",
      "source": [
        "Pares = [i for i in np.random.randint(1,10, 100) if i%2==0 ]\n",
        "Pares"
      ],
      "metadata": {
        "colab": {
          "base_uri": "https://localhost:8080/"
        },
        "id": "ILT23UwChhEp",
        "outputId": "d92fd828-8f45-4604-eb9f-765bc3169150"
      },
      "execution_count": 21,
      "outputs": [
        {
          "output_type": "execute_result",
          "data": {
            "text/plain": [
              "[6,\n",
              " 2,\n",
              " 6,\n",
              " 2,\n",
              " 6,\n",
              " 2,\n",
              " 2,\n",
              " 6,\n",
              " 4,\n",
              " 4,\n",
              " 6,\n",
              " 2,\n",
              " 8,\n",
              " 6,\n",
              " 8,\n",
              " 4,\n",
              " 2,\n",
              " 8,\n",
              " 2,\n",
              " 8,\n",
              " 8,\n",
              " 4,\n",
              " 4,\n",
              " 6,\n",
              " 4,\n",
              " 2,\n",
              " 8,\n",
              " 8,\n",
              " 4,\n",
              " 4,\n",
              " 2,\n",
              " 8,\n",
              " 8,\n",
              " 2,\n",
              " 6,\n",
              " 4,\n",
              " 8,\n",
              " 4,\n",
              " 4,\n",
              " 6,\n",
              " 8,\n",
              " 2,\n",
              " 8,\n",
              " 8,\n",
              " 2,\n",
              " 6,\n",
              " 4,\n",
              " 6,\n",
              " 6]"
            ]
          },
          "metadata": {},
          "execution_count": 21
        }
      ]
    }
  ]
}