{
  "nbformat": 4,
  "nbformat_minor": 0,
  "metadata": {
    "colab": {
      "provenance": []
    },
    "kernelspec": {
      "name": "python3",
      "display_name": "Python 3"
    },
    "language_info": {
      "name": "python"
    }
  },
  "cells": [
    {
      "cell_type": "code",
      "execution_count": 120,
      "metadata": {
        "id": "LW3b17EFV-uQ"
      },
      "outputs": [],
      "source": [
        "def Area(b,l):\n",
        "  a = (b*l)/2\n",
        "  return a"
      ]
    },
    {
      "cell_type": "code",
      "source": [
        "Area(10,5)"
      ],
      "metadata": {
        "colab": {
          "base_uri": "https://localhost:8080/"
        },
        "id": "zIjLu9ktaxKb",
        "outputId": "2cddcf8d-e153-44bc-a442-e53f7e0d00eb"
      },
      "execution_count": 121,
      "outputs": [
        {
          "output_type": "execute_result",
          "data": {
            "text/plain": [
              "25.0"
            ]
          },
          "metadata": {},
          "execution_count": 121
        }
      ]
    },
    {
      "cell_type": "code",
      "source": [
        "def Perimetro(b,l):\n",
        "  p = (b*2)+l\n",
        "  return p"
      ],
      "metadata": {
        "id": "vIRSzSqYabfd"
      },
      "execution_count": 122,
      "outputs": []
    },
    {
      "cell_type": "code",
      "source": [
        "Perimetro(10,5)"
      ],
      "metadata": {
        "colab": {
          "base_uri": "https://localhost:8080/"
        },
        "id": "XLdRccPRa0lt",
        "outputId": "3f0a12c0-09d4-457b-dd0d-8b8b7c20177b"
      },
      "execution_count": 123,
      "outputs": [
        {
          "output_type": "execute_result",
          "data": {
            "text/plain": [
              "25"
            ]
          },
          "metadata": {},
          "execution_count": 123
        }
      ]
    },
    {
      "cell_type": "code",
      "source": [
        "def NumPar(x):\n",
        "  num = x%2\n",
        "  return num"
      ],
      "metadata": {
        "id": "EhRewh3HbMT6"
      },
      "execution_count": 124,
      "outputs": []
    },
    {
      "cell_type": "code",
      "source": [
        "x = 6\n",
        "\n",
        "if (NumPar(x)==0):\n",
        "    print (\"Es_Par\")\n",
        "else:\n",
        "    print (\"Es_Impar\")"
      ],
      "metadata": {
        "colab": {
          "base_uri": "https://localhost:8080/"
        },
        "id": "OpS7KjL1eQAo",
        "outputId": "b2d30bf8-e511-4958-c41c-e95932e8abc1"
      },
      "execution_count": 125,
      "outputs": [
        {
          "output_type": "stream",
          "name": "stdout",
          "text": [
            "Es_Par\n"
          ]
        }
      ]
    },
    {
      "cell_type": "code",
      "source": [
        "n = int(input(\"Ingresa: \"))\n",
        "\n",
        "L = [i for i in range(1, n) if n%i==0]\n",
        "L"
      ],
      "metadata": {
        "colab": {
          "base_uri": "https://localhost:8080/"
        },
        "id": "pFF7xXeLjC68",
        "outputId": "7cebfd9d-4b3e-4e89-ac37-81998c2570ef"
      },
      "execution_count": 126,
      "outputs": [
        {
          "name": "stdout",
          "output_type": "stream",
          "text": [
            "Ingresa: 6\n"
          ]
        },
        {
          "output_type": "execute_result",
          "data": {
            "text/plain": [
              "[1, 2, 3]"
            ]
          },
          "metadata": {},
          "execution_count": 126
        }
      ]
    },
    {
      "cell_type": "code",
      "source": [
        "if (sum(L)==n):\n",
        "  print (\"Es_Perfecto\")\n",
        "else:\n",
        "    print (\"No_Es_Perfecto\")"
      ],
      "metadata": {
        "colab": {
          "base_uri": "https://localhost:8080/"
        },
        "id": "Gh9Fx1NnjIWG",
        "outputId": "31097791-3394-4e29-eb90-7b37a683e8bb"
      },
      "execution_count": 127,
      "outputs": [
        {
          "output_type": "stream",
          "name": "stdout",
          "text": [
            "Es_Perfecto\n"
          ]
        }
      ]
    }
  ]
}