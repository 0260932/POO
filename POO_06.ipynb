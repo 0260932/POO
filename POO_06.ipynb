{
  "nbformat": 4,
  "nbformat_minor": 0,
  "metadata": {
    "colab": {
      "provenance": []
    },
    "kernelspec": {
      "name": "python3",
      "display_name": "Python 3"
    },
    "language_info": {
      "name": "python"
    }
  },
  "cells": [
    {
      "cell_type": "markdown",
      "source": [
        "# CLASES, HERENCIAS Y POLIMORFISMOS"
      ],
      "metadata": {
        "id": "kPIRVTRtZA0z"
      }
    },
    {
      "cell_type": "code",
      "execution_count": 67,
      "metadata": {
        "id": "8kyIGymQYbon"
      },
      "outputs": [],
      "source": [
        "class Mascota():\n",
        "\n",
        "  def __init__(self):\n",
        "    print(\"Creamos una clase madre\")\n",
        "\n",
        "  def adivina(self):\n",
        "    print(\"Hola, soy un perro\")\n",
        "\n",
        "  def hablar(self):\n",
        "    print(\"Ladro\")\n",
        "\n",
        "  def ladrar(self):\n",
        "    print(\"Woof\")\n",
        "\n",
        "  def pata(self):\n",
        "    print(\"Pata derecha arriba\")"
      ]
    },
    {
      "cell_type": "code",
      "source": [
        "mascota = Mascota()"
      ],
      "metadata": {
        "colab": {
          "base_uri": "https://localhost:8080/"
        },
        "id": "n8GW4tsgc1AN",
        "outputId": "b7eeccfe-0a85-4a05-ec0b-72e4ebc0ac8e"
      },
      "execution_count": 68,
      "outputs": [
        {
          "output_type": "stream",
          "name": "stdout",
          "text": [
            "Creamos una clase madre\n"
          ]
        }
      ]
    },
    {
      "cell_type": "code",
      "source": [
        "mascota.adivina()"
      ],
      "metadata": {
        "colab": {
          "base_uri": "https://localhost:8080/"
        },
        "id": "ZWbfaFn9d1HT",
        "outputId": "a9804823-4069-4704-9fe8-ed3270037fa6"
      },
      "execution_count": 69,
      "outputs": [
        {
          "output_type": "stream",
          "name": "stdout",
          "text": [
            "Hola, soy un perro\n"
          ]
        }
      ]
    },
    {
      "cell_type": "code",
      "source": [
        "mascota.hablar()"
      ],
      "metadata": {
        "colab": {
          "base_uri": "https://localhost:8080/"
        },
        "id": "4BjyTBv-d_Ns",
        "outputId": "8ad85aa8-917a-4ddc-b8d1-0ce5b86371ce"
      },
      "execution_count": 70,
      "outputs": [
        {
          "output_type": "stream",
          "name": "stdout",
          "text": [
            "Ladro\n"
          ]
        }
      ]
    },
    {
      "cell_type": "code",
      "source": [
        "mascota.ladrar()"
      ],
      "metadata": {
        "colab": {
          "base_uri": "https://localhost:8080/"
        },
        "id": "Q7Vp5m5Hf0Pr",
        "outputId": "341d26d4-c63f-4a42-db18-0b99a2b64861"
      },
      "execution_count": 71,
      "outputs": [
        {
          "output_type": "stream",
          "name": "stdout",
          "text": [
            "Woof\n"
          ]
        }
      ]
    },
    {
      "cell_type": "code",
      "source": [
        "mascota.pata()"
      ],
      "metadata": {
        "colab": {
          "base_uri": "https://localhost:8080/"
        },
        "id": "CZCDG06jfy1m",
        "outputId": "9179f5b5-7309-4f39-e0c6-fcca46d625a9"
      },
      "execution_count": 72,
      "outputs": [
        {
          "output_type": "stream",
          "name": "stdout",
          "text": [
            "Pata derecha arriba\n"
          ]
        }
      ]
    },
    {
      "cell_type": "markdown",
      "source": [
        "# Crear una herencia"
      ],
      "metadata": {
        "id": "klqelvR1hHxu"
      }
    },
    {
      "cell_type": "code",
      "source": [
        "class Perro(Mascota):\n",
        "\n",
        "  def __init__(self):\n",
        "    Mascota.__init__(self)\n",
        "    print(\"Creamos una clase heredada\")\n",
        "\n",
        "  def nombre(self):\n",
        "    print(\"Kylo\")\n",
        "\n",
        "  def adivina(self):\n",
        "    print(\"Labrador\")\n",
        "\n",
        "  def idioma(self):\n",
        "    print(\"WUAF\")"
      ],
      "metadata": {
        "id": "d8iRTkpXhL2x"
      },
      "execution_count": 73,
      "outputs": []
    },
    {
      "cell_type": "code",
      "source": [
        "perro = Perro() # Llamamos a la clase heredada"
      ],
      "metadata": {
        "colab": {
          "base_uri": "https://localhost:8080/"
        },
        "id": "O8NxFA8YiNh_",
        "outputId": "3542d2f2-2f6f-4f53-aced-7250abf62ee7"
      },
      "execution_count": 74,
      "outputs": [
        {
          "output_type": "stream",
          "name": "stdout",
          "text": [
            "Creamos una clase madre\n",
            "Creamos una clase heredada\n"
          ]
        }
      ]
    },
    {
      "cell_type": "code",
      "source": [
        "mascota.adivina()"
      ],
      "metadata": {
        "colab": {
          "base_uri": "https://localhost:8080/"
        },
        "id": "-lwVml0dk7ll",
        "outputId": "69725889-faa0-4802-debf-78cf14e6d53b"
      },
      "execution_count": 75,
      "outputs": [
        {
          "output_type": "stream",
          "name": "stdout",
          "text": [
            "Hola, soy un perro\n"
          ]
        }
      ]
    },
    {
      "cell_type": "code",
      "source": [
        "perro.adivina()"
      ],
      "metadata": {
        "colab": {
          "base_uri": "https://localhost:8080/"
        },
        "id": "uS4m1qVAlHxp",
        "outputId": "8032e995-10db-4d04-9b38-c2b56724d03c"
      },
      "execution_count": 76,
      "outputs": [
        {
          "output_type": "stream",
          "name": "stdout",
          "text": [
            "Labrador\n"
          ]
        }
      ]
    },
    {
      "cell_type": "code",
      "source": [
        "perro.idioma()"
      ],
      "metadata": {
        "colab": {
          "base_uri": "https://localhost:8080/"
        },
        "id": "DBhKJDN7lOAW",
        "outputId": "a4c829e1-dc41-47d1-8520-0ed970463f07"
      },
      "execution_count": 77,
      "outputs": [
        {
          "output_type": "stream",
          "name": "stdout",
          "text": [
            "WUAF\n"
          ]
        }
      ]
    },
    {
      "cell_type": "markdown",
      "source": [
        "# CLASE MADRE \"PABLO\""
      ],
      "metadata": {
        "id": "r9hQHmc0nFFr"
      }
    },
    {
      "cell_type": "code",
      "source": [
        "class Pablo():\n",
        "\n",
        "  def __init__(self):\n",
        "    print(\"Creamos una clase madre de Pablo\")\n",
        "\n",
        "  def adivina(self):\n",
        "    print(\"Hola, soy Pablo\")\n",
        "\n",
        "  def hablar(self):\n",
        "    print(\"Hola!\")\n",
        "\n",
        "  def nombre(self):\n",
        "    print(\"Pablo\")"
      ],
      "metadata": {
        "id": "a101OdzrnJea"
      },
      "execution_count": 78,
      "outputs": []
    },
    {
      "cell_type": "code",
      "source": [
        "pablo = Pablo()"
      ],
      "metadata": {
        "colab": {
          "base_uri": "https://localhost:8080/"
        },
        "id": "Gbgw7GOrnwK_",
        "outputId": "8d6b31b5-7e4d-470a-e237-d2389ef62e8a"
      },
      "execution_count": 79,
      "outputs": [
        {
          "output_type": "stream",
          "name": "stdout",
          "text": [
            "Creamos una clase madre de Pablo\n"
          ]
        }
      ]
    },
    {
      "cell_type": "code",
      "source": [
        "pablo.adivina()"
      ],
      "metadata": {
        "colab": {
          "base_uri": "https://localhost:8080/"
        },
        "id": "JEFm1Sq9n27R",
        "outputId": "c5756114-e033-4b46-8ff6-e28f3815bf67"
      },
      "execution_count": 80,
      "outputs": [
        {
          "output_type": "stream",
          "name": "stdout",
          "text": [
            "Hola, soy Pablo\n"
          ]
        }
      ]
    },
    {
      "cell_type": "code",
      "source": [
        "pablo.hablar()"
      ],
      "metadata": {
        "colab": {
          "base_uri": "https://localhost:8080/"
        },
        "id": "0k2_x3uNn52A",
        "outputId": "6bb18063-1a41-406f-be64-ddfbd4afac94"
      },
      "execution_count": 81,
      "outputs": [
        {
          "output_type": "stream",
          "name": "stdout",
          "text": [
            "Hola!\n"
          ]
        }
      ]
    },
    {
      "cell_type": "code",
      "source": [
        "pablo.nombre()"
      ],
      "metadata": {
        "colab": {
          "base_uri": "https://localhost:8080/"
        },
        "id": "5JfJsB4In8u4",
        "outputId": "a47d7b2a-cb7c-4da6-f24e-d5a33186baf8"
      },
      "execution_count": 82,
      "outputs": [
        {
          "output_type": "stream",
          "name": "stdout",
          "text": [
            "Pablo\n"
          ]
        }
      ]
    },
    {
      "cell_type": "markdown",
      "source": [
        "## CLASE HERENCIA \"PABLO\""
      ],
      "metadata": {
        "id": "SyMmMCPmnXI7"
      }
    },
    {
      "cell_type": "code",
      "source": [
        "class Gustos(Pablo):\n",
        "\n",
        "  def __init__(self):\n",
        "    Pablo.__init__(self)\n",
        "    print(\"Creamos una clase heredada de Pablo\")\n",
        "\n",
        "  def futbol(self):\n",
        "    print(\"America\")\n",
        "\n",
        "  def deporte(self):\n",
        "    print(\"Futbol Americano\")\n",
        "\n",
        "  def edad(self):\n",
        "    print(\"19 años\")"
      ],
      "metadata": {
        "id": "qm-6hkL0nbSA"
      },
      "execution_count": 83,
      "outputs": []
    },
    {
      "cell_type": "code",
      "source": [
        "gustos = Gustos() # Llamamos a la clase heredada"
      ],
      "metadata": {
        "colab": {
          "base_uri": "https://localhost:8080/"
        },
        "id": "1Gi4rPV5oGGn",
        "outputId": "3ea751f8-0f77-4148-b338-922f3a1ba686"
      },
      "execution_count": 84,
      "outputs": [
        {
          "output_type": "stream",
          "name": "stdout",
          "text": [
            "Creamos una clase madre de Pablo\n",
            "Creamos una clase heredada de Pablo\n"
          ]
        }
      ]
    },
    {
      "cell_type": "code",
      "source": [
        "pablo.adivina()"
      ],
      "metadata": {
        "colab": {
          "base_uri": "https://localhost:8080/"
        },
        "id": "4EJQ_MCYoK1O",
        "outputId": "d9086903-3c1f-4094-fbed-c68fab5afa74"
      },
      "execution_count": 85,
      "outputs": [
        {
          "output_type": "stream",
          "name": "stdout",
          "text": [
            "Hola, soy Pablo\n"
          ]
        }
      ]
    },
    {
      "cell_type": "code",
      "source": [
        "gustos.futbol()"
      ],
      "metadata": {
        "colab": {
          "base_uri": "https://localhost:8080/"
        },
        "id": "f0eRMPTJobT5",
        "outputId": "89d2510d-b9cf-453e-dee9-fa412f0851c3"
      },
      "execution_count": 86,
      "outputs": [
        {
          "output_type": "stream",
          "name": "stdout",
          "text": [
            "America\n"
          ]
        }
      ]
    },
    {
      "cell_type": "code",
      "source": [
        "gustos.deporte()"
      ],
      "metadata": {
        "colab": {
          "base_uri": "https://localhost:8080/"
        },
        "id": "Xl-FJ_hrop1m",
        "outputId": "33921e91-c8f0-417c-ea6f-d4af4046cc1d"
      },
      "execution_count": 87,
      "outputs": [
        {
          "output_type": "stream",
          "name": "stdout",
          "text": [
            "Futbol Americano\n"
          ]
        }
      ]
    },
    {
      "cell_type": "code",
      "source": [
        "gustos.edad()"
      ],
      "metadata": {
        "colab": {
          "base_uri": "https://localhost:8080/"
        },
        "id": "mJ-pKnOhosxF",
        "outputId": "37e1796a-2a84-4ea3-cfa7-4f9259e20d98"
      },
      "execution_count": 88,
      "outputs": [
        {
          "output_type": "stream",
          "name": "stdout",
          "text": [
            "19 años\n"
          ]
        }
      ]
    }
  ]
}